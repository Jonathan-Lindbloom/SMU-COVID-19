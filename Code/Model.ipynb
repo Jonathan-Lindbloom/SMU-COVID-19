{
 "cells": [
  {
   "cell_type": "code",
   "execution_count": 5,
   "metadata": {},
   "outputs": [],
   "source": [
    "import numpy as np\n",
    "import matplotlib.pyplot as plt\n",
    "import pandas as pd\n",
    "import scipy.stats as stats"
   ]
  },
  {
   "cell_type": "code",
   "execution_count": 10,
   "metadata": {},
   "outputs": [
    {
     "data": {
      "text/plain": [
       "[<matplotlib.lines.Line2D at 0x200d3187888>]"
      ]
     },
     "execution_count": 10,
     "metadata": {},
     "output_type": "execute_result"
    },
    {
     "data": {
      "image/png": "[encoded data removed]",
      "text/plain": [
       "<Figure size 432x288 with 1 Axes>"
      ]
     },
     "metadata": {
      "needs_background": "light"
     },
     "output_type": "display_data"
    }
   ],
   "source": [
    "# Specify and plot serial interval distribution.\n",
    "serial_dist = stats.gamma(6.5)\n",
    "\n",
    "domain = np.linspace(0,20,1000)\n",
    "image = serial_dist.pdf(domain)\n",
    "plt.plot(domain, image)"
   ]
  },
  {
   "cell_type": "code",
   "execution_count": 49,
   "metadata": {},
   "outputs": [],
   "source": [
    "# Set R0.\n",
    "R0 = 1.3"
   ]
  },
  {
   "cell_type": "code",
   "execution_count": 50,
   "metadata": {},
   "outputs": [],
   "source": [
    "# Discretize the serial distribution.\n",
    "def serial_discrete(s):\n",
    "    if s <= 1:\n",
    "        result = serial_dist.cdf(1.5)\n",
    "        return result\n",
    "    else:\n",
    "        add = serial_dist.cdf(s+0.5)\n",
    "        less = serial_dist.cdf(s-0.5)\n",
    "        result = add-less\n",
    "        return result\n",
    "        "
   ]
  },
  {
   "cell_type": "code",
   "execution_count": 51,
   "metadata": {},
   "outputs": [],
   "source": [
    "ndays = 100\n",
    "infections = np.zeros(ndays)\n",
    "infections[0] = 2"
   ]
  },
  {
   "cell_type": "code",
   "execution_count": 52,
   "metadata": {},
   "outputs": [],
   "source": [
    "for i in range(1,ndays):\n",
    "    summation = 0\n",
    "    for j in range(i):\n",
    "        summation += infections[j]*serial_discrete(i-j)\n",
    "    infections[i] = R0*summation"
   ]
  },
  {
   "cell_type": "code",
   "execution_count": 53,
   "metadata": {},
   "outputs": [
    {
     "data": {
      "text/plain": [
       "array([2.00000000e+00, 5.37077484e-03, 5.91415011e-02, 1.90225684e-01,\n",
       "       3.38710097e-01, 4.34578557e-01, 4.64124626e-01, 4.57004347e-01,\n",
       "       4.47639186e-01, 4.53152198e-01, 4.73201871e-01, 4.99879089e-01,\n",
       "       5.26411450e-01, 5.50383386e-01, 5.72698698e-01, 5.95243439e-01,\n",
       "       6.19295260e-01, 6.45163489e-01, 6.72578339e-01, 7.01192037e-01,\n",
       "       7.30846154e-01, 7.61584139e-01, 7.93543878e-01, 8.26857900e-01,\n",
       "       8.61613466e-01, 8.97861836e-01, 9.35644142e-01, 9.75010053e-01,\n",
       "       1.01602274e+00, 1.05875505e+00, 1.10328395e+00, 1.14968752e+00,\n",
       "       1.19804473e+00, 1.24843678e+00, 1.30094832e+00, 1.35566812e+00,\n",
       "       1.41268915e+00, 1.47210843e+00, 1.53402701e+00, 1.59855007e+00,\n",
       "       1.66578711e+00, 1.73585224e+00, 1.80886438e+00, 1.88494748e+00,\n",
       "       1.96423072e+00, 2.04684871e+00, 2.13294172e+00, 2.22265591e+00,\n",
       "       2.31614360e+00, 2.41356349e+00, 2.51508099e+00, 2.62086844e+00,\n",
       "       2.73110544e+00, 2.84597914e+00, 2.96568458e+00, 3.09042498e+00,\n",
       "       3.22041212e+00, 3.35586667e+00, 3.49701862e+00, 3.64410759e+00,\n",
       "       3.79738331e+00, 3.95710599e+00, 4.12354682e+00, 4.29698835e+00,\n",
       "       4.47772504e+00, 4.66606375e+00, 4.86232423e+00, 5.06683966e+00,\n",
       "       5.27995726e+00, 5.50203886e+00, 5.73346149e+00, 5.97461804e+00,\n",
       "       6.22591794e+00, 6.48778783e+00, 6.76067229e+00, 7.04503462e+00,\n",
       "       7.34135757e+00, 7.65014425e+00, 7.97191887e+00, 8.30722774e+00,\n",
       "       8.65664012e+00, 9.02074921e+00, 9.40017320e+00, 9.79555623e+00,\n",
       "       1.02075696e+01, 1.06369127e+01, 1.10843145e+01, 1.15505346e+01,\n",
       "       1.20363646e+01, 1.25426291e+01, 1.30701877e+01, 1.36199362e+01,\n",
       "       1.41928077e+01, 1.47897749e+01, 1.54118513e+01, 1.60600931e+01,\n",
       "       1.67356006e+01, 1.74395209e+01, 1.81730489e+01, 1.89374301e+01])"
      ]
     },
     "execution_count": 53,
     "metadata": {},
     "output_type": "execute_result"
    },
    {
     "data": {
      "image/png": "[encoded data removed]",
      "text/plain": [
       "<Figure size 432x288 with 1 Axes>"
      ]
     },
     "metadata": {
      "needs_background": "light"
     },
     "output_type": "display_data"
    }
   ],
   "source": [
    "days = [i for i in range(ndays)]\n",
    "plt.scatter(days, infections)\n",
    "infections"
   ]
  },
  {
   "cell_type": "code",
   "execution_count": null,
   "metadata": {},
   "outputs": [],
   "source": []
  },
  {
   "cell_type": "code",
   "execution_count": null,
   "metadata": {},
   "outputs": [],
   "source": []
  },
  {
   "cell_type": "code",
   "execution_count": null,
   "metadata": {},
   "outputs": [],
   "source": []
  },
  {
   "cell_type": "code",
   "execution_count": null,
   "metadata": {},
   "outputs": [],
   "source": []
  },
  {
   "cell_type": "code",
   "execution_count": null,
   "metadata": {},
   "outputs": [],
   "source": []
  },
  {
   "cell_type": "code",
   "execution_count": null,
   "metadata": {},
   "outputs": [],
   "source": []
  }
 ],
 "metadata": {
  "kernelspec": {
   "display_name": "Python 3",
   "language": "python",
   "name": "python3"
  },
  "language_info": {
   "codemirror_mode": {
    "name": "ipython",
    "version": 3
   },
   "file_extension": ".py",
   "mimetype": "text/x-python",
   "name": "python",
   "nbconvert_exporter": "python",
   "pygments_lexer": "ipython3",
   "version": "3.7.6"
  }
 },
 "nbformat": 4,
 "nbformat_minor": 4
}
