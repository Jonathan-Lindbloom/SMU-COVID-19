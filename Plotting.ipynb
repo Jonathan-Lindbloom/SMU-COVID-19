{
 "cells": [
  {
   "cell_type": "code",
   "execution_count": 9,
   "metadata": {},
   "outputs": [],
   "source": [
    "import numpy as np\n",
    "import matplotlib.pyplot as plt\n",
    "import pandas as pd\n",
    "import datetime as dt\n",
    "import os\n",
    "import sys"
   ]
  },
  {
   "cell_type": "code",
   "execution_count": 2,
   "metadata": {},
   "outputs": [],
   "source": [
    "# Import data\n",
    "df = pd.read_excel(\"raw_data.xlsx\")"
   ]
  },
  {
   "cell_type": "code",
   "execution_count": 3,
   "metadata": {},
   "outputs": [
    {
     "data": {
      "text/html": [
       "<div>\n",
       "<style scoped>\n",
       "    .dataframe tbody tr th:only-of-type {\n",
       "        vertical-align: middle;\n",
       "    }\n",
       "\n",
       "    .dataframe tbody tr th {\n",
       "        vertical-align: top;\n",
       "    }\n",
       "\n",
       "    .dataframe thead th {\n",
       "        text-align: right;\n",
       "    }\n",
       "</style>\n",
       "<table border=\"1\" class=\"dataframe\">\n",
       "  <thead>\n",
       "    <tr style=\"text-align: right;\">\n",
       "      <th></th>\n",
       "      <th>Campus Community Notified</th>\n",
       "      <th>Date SMU was Notified of Positive Test</th>\n",
       "      <th>Last Known Date on Campus</th>\n",
       "      <th>Description</th>\n",
       "      <th>Active</th>\n",
       "    </tr>\n",
       "  </thead>\n",
       "  <tbody>\n",
       "    <tr>\n",
       "      <th>0</th>\n",
       "      <td>2020-08-28</td>\n",
       "      <td>2020-08-27</td>\n",
       "      <td>2020-08-24</td>\n",
       "      <td>A student who lives off campus</td>\n",
       "      <td>1</td>\n",
       "    </tr>\n",
       "    <tr>\n",
       "      <th>1</th>\n",
       "      <td>2020-08-28</td>\n",
       "      <td>2020-08-27</td>\n",
       "      <td>2020-08-27</td>\n",
       "      <td>A student who lives off campus</td>\n",
       "      <td>1</td>\n",
       "    </tr>\n",
       "    <tr>\n",
       "      <th>2</th>\n",
       "      <td>2020-08-28</td>\n",
       "      <td>2020-08-27</td>\n",
       "      <td>2020-08-27</td>\n",
       "      <td>A student who lives on campus</td>\n",
       "      <td>1</td>\n",
       "    </tr>\n",
       "    <tr>\n",
       "      <th>3</th>\n",
       "      <td>2020-08-28</td>\n",
       "      <td>2020-08-27</td>\n",
       "      <td>2020-08-27</td>\n",
       "      <td>A student who lives on campus</td>\n",
       "      <td>1</td>\n",
       "    </tr>\n",
       "    <tr>\n",
       "      <th>4</th>\n",
       "      <td>2020-08-28</td>\n",
       "      <td>2020-08-27</td>\n",
       "      <td>2020-08-27</td>\n",
       "      <td>A student who lives off campus</td>\n",
       "      <td>1</td>\n",
       "    </tr>\n",
       "  </tbody>\n",
       "</table>\n",
       "</div>"
      ],
      "text/plain": [
       "  Campus Community Notified Date SMU was Notified of Positive Test  \\\n",
       "0                2020-08-28                             2020-08-27   \n",
       "1                2020-08-28                             2020-08-27   \n",
       "2                2020-08-28                             2020-08-27   \n",
       "3                2020-08-28                             2020-08-27   \n",
       "4                2020-08-28                             2020-08-27   \n",
       "\n",
       "  Last Known Date on Campus                     Description  Active  \n",
       "0                2020-08-24  A student who lives off campus       1  \n",
       "1                2020-08-27  A student who lives off campus       1  \n",
       "2                2020-08-27   A student who lives on campus       1  \n",
       "3                2020-08-27   A student who lives on campus       1  \n",
       "4                2020-08-27  A student who lives off campus       1  "
      ]
     },
     "execution_count": 3,
     "metadata": {},
     "output_type": "execute_result"
    }
   ],
   "source": [
    "df.head()"
   ]
  },
  {
   "cell_type": "markdown",
   "metadata": {},
   "source": [
    "# Active Cases"
   ]
  },
  {
   "cell_type": "code",
   "execution_count": 4,
   "metadata": {},
   "outputs": [],
   "source": [
    "temp = df.copy()\n",
    "temp_smu_dates = np.sort(temp[\"Date SMU was Notified of Positive Test\"].unique())"
   ]
  },
  {
   "cell_type": "code",
   "execution_count": 5,
   "metadata": {},
   "outputs": [],
   "source": [
    "counts = np.zeros(len(temp_smu_dates))\n",
    "for i in range(len(temp_smu_dates)):\n",
    "    sub_count = len(temp[temp[\"Campus Community Notified\"] == temp_smu_dates[i]])\n",
    "    counts[i] = sub_count"
   ]
  },
  {
   "cell_type": "code",
   "execution_count": 6,
   "metadata": {},
   "outputs": [
    {
     "data": {
      "text/plain": [
       "<matplotlib.collections.PathCollection at 0x22e1cd13e08>"
      ]
     },
     "execution_count": 6,
     "metadata": {},
     "output_type": "execute_result"
    },
    {
     "data": {
      "image/png": "[encoded data removed]",
      "text/plain": [
       "<Figure size 432x288 with 1 Axes>"
      ]
     },
     "metadata": {
      "needs_background": "light"
     },
     "output_type": "display_data"
    }
   ],
   "source": [
    "plt.scatter(temp_smu_dates, counts)"
   ]
  },
  {
   "cell_type": "code",
   "execution_count": 31,
   "metadata": {},
   "outputs": [
    {
     "data": {
      "text/plain": [
       "Text(0, 0.5, '# of Cases')"
      ]
     },
     "execution_count": 31,
     "metadata": {},
     "output_type": "execute_result"
    },
    {
     "data": {
      "image/png": "[encoded data removed]",
      "text/plain": [
       "<Figure size 1440x720 with 1 Axes>"
      ]
     },
     "metadata": {
      "needs_background": "light"
     },
     "output_type": "display_data"
    }
   ],
   "source": [
    "#plt.plot(temp_smu_dates, np.cumsum(counts))\n",
    "plt.figure(figsize=(20,10))\n",
    "plt.fill_between(temp_smu_dates, np.cumsum(counts))\n",
    "plt.title(\"SMU Cumulative Confirmed Cases\")\n",
    "plt.axvline(np.datetime64(dt.datetime.strptime(\"20-08-12\", \"%y-%m-%d\")), ymin=0, c=\"k\")\n",
    "plt.axvline(np.datetime64(dt.datetime.now()), ymin=0, c=\"r\")\n",
    "plt.ylabel(\"# of Cases\")"
   ]
  },
  {
   "cell_type": "code",
   "execution_count": 23,
   "metadata": {},
   "outputs": [
    {
     "data": {
      "text/plain": [
       "False"
      ]
     },
     "execution_count": 23,
     "metadata": {},
     "output_type": "execute_result"
    }
   ],
   "source": [
    "np.datetime64(dt.datetime.strptime(\"20-08-12\", \"%y-%m-%d\"))"
   ]
  },
  {
   "cell_type": "code",
   "execution_count": 30,
   "metadata": {},
   "outputs": [
    {
     "data": {
      "text/plain": [
       "numpy.datetime64('2020-08-29T19:18:31.555429')"
      ]
     },
     "execution_count": 30,
     "metadata": {},
     "output_type": "execute_result"
    }
   ],
   "source": [
    "np.datetime64(dt.datetime.now())"
   ]
  },
  {
   "cell_type": "code",
   "execution_count": null,
   "metadata": {},
   "outputs": [],
   "source": []
  },
  {
   "cell_type": "code",
   "execution_count": 33,
   "metadata": {},
   "outputs": [],
   "source": [
    "d = {'Date': temp_smu_dates, 'Cases Reported to SMU': counts, \"Cumulative Cases\": np.cumsum(counts) }\n",
    "d = pd.DataFrame(data=d)"
   ]
  },
  {
   "cell_type": "code",
   "execution_count": 34,
   "metadata": {},
   "outputs": [
    {
     "data": {
      "text/html": [
       "<div>\n",
       "<style scoped>\n",
       "    .dataframe tbody tr th:only-of-type {\n",
       "        vertical-align: middle;\n",
       "    }\n",
       "\n",
       "    .dataframe tbody tr th {\n",
       "        vertical-align: top;\n",
       "    }\n",
       "\n",
       "    .dataframe thead th {\n",
       "        text-align: right;\n",
       "    }\n",
       "</style>\n",
       "<table border=\"1\" class=\"dataframe\">\n",
       "  <thead>\n",
       "    <tr style=\"text-align: right;\">\n",
       "      <th></th>\n",
       "      <th>Date</th>\n",
       "      <th>Cases Reported to SMU</th>\n",
       "      <th>Cumulative Cases</th>\n",
       "    </tr>\n",
       "  </thead>\n",
       "  <tbody>\n",
       "    <tr>\n",
       "      <th>0</th>\n",
       "      <td>2020-03-20</td>\n",
       "      <td>0.0</td>\n",
       "      <td>0.0</td>\n",
       "    </tr>\n",
       "    <tr>\n",
       "      <th>1</th>\n",
       "      <td>2020-03-23</td>\n",
       "      <td>0.0</td>\n",
       "      <td>0.0</td>\n",
       "    </tr>\n",
       "    <tr>\n",
       "      <th>2</th>\n",
       "      <td>2020-04-02</td>\n",
       "      <td>1.0</td>\n",
       "      <td>1.0</td>\n",
       "    </tr>\n",
       "    <tr>\n",
       "      <th>3</th>\n",
       "      <td>2020-06-08</td>\n",
       "      <td>0.0</td>\n",
       "      <td>1.0</td>\n",
       "    </tr>\n",
       "    <tr>\n",
       "      <th>4</th>\n",
       "      <td>2020-06-09</td>\n",
       "      <td>0.0</td>\n",
       "      <td>1.0</td>\n",
       "    </tr>\n",
       "  </tbody>\n",
       "</table>\n",
       "</div>"
      ],
      "text/plain": [
       "        Date  Cases Reported to SMU  Cumulative Cases\n",
       "0 2020-03-20                    0.0               0.0\n",
       "1 2020-03-23                    0.0               0.0\n",
       "2 2020-04-02                    1.0               1.0\n",
       "3 2020-06-08                    0.0               1.0\n",
       "4 2020-06-09                    0.0               1.0"
      ]
     },
     "execution_count": 34,
     "metadata": {},
     "output_type": "execute_result"
    }
   ],
   "source": [
    "d.head()\n"
   ]
  },
  {
   "cell_type": "code",
   "execution_count": 35,
   "metadata": {},
   "outputs": [],
   "source": [
    "d.to_csv(\"cleaned_case_data.csv\", index=False)"
   ]
  },
  {
   "cell_type": "code",
   "execution_count": null,
   "metadata": {},
   "outputs": [],
   "source": []
  },
  {
   "cell_type": "code",
   "execution_count": 32,
   "metadata": {},
   "outputs": [
    {
     "data": {
      "text/plain": [
       "array(['2020-03-20T00:00:00.000000000', '2020-03-23T00:00:00.000000000',\n",
       "       '2020-04-02T00:00:00.000000000', '2020-06-08T00:00:00.000000000',\n",
       "       '2020-06-09T00:00:00.000000000', '2020-06-13T00:00:00.000000000',\n",
       "       '2020-06-16T00:00:00.000000000', '2020-06-17T00:00:00.000000000',\n",
       "       '2020-06-20T00:00:00.000000000', '2020-06-22T00:00:00.000000000',\n",
       "       '2020-06-23T00:00:00.000000000', '2020-06-24T00:00:00.000000000',\n",
       "       '2020-06-28T00:00:00.000000000', '2020-06-30T00:00:00.000000000',\n",
       "       '2020-07-01T00:00:00.000000000', '2020-07-02T00:00:00.000000000',\n",
       "       '2020-07-03T00:00:00.000000000', '2020-07-08T00:00:00.000000000',\n",
       "       '2020-07-09T00:00:00.000000000', '2020-07-10T00:00:00.000000000',\n",
       "       '2020-07-14T00:00:00.000000000', '2020-07-20T00:00:00.000000000',\n",
       "       '2020-07-22T00:00:00.000000000', '2020-07-23T00:00:00.000000000',\n",
       "       '2020-07-24T00:00:00.000000000', '2020-07-25T00:00:00.000000000',\n",
       "       '2020-07-27T00:00:00.000000000', '2020-07-30T00:00:00.000000000',\n",
       "       '2020-07-31T00:00:00.000000000', '2020-08-05T00:00:00.000000000',\n",
       "       '2020-08-06T00:00:00.000000000', '2020-08-08T00:00:00.000000000',\n",
       "       '2020-08-09T00:00:00.000000000', '2020-08-10T00:00:00.000000000',\n",
       "       '2020-08-12T00:00:00.000000000', '2020-08-14T00:00:00.000000000',\n",
       "       '2020-08-16T00:00:00.000000000', '2020-08-17T00:00:00.000000000',\n",
       "       '2020-08-18T00:00:00.000000000', '2020-08-19T00:00:00.000000000',\n",
       "       '2020-08-20T00:00:00.000000000', '2020-08-22T00:00:00.000000000',\n",
       "       '2020-08-23T00:00:00.000000000', '2020-08-25T00:00:00.000000000',\n",
       "       '2020-08-26T00:00:00.000000000', '2020-08-27T00:00:00.000000000'],\n",
       "      dtype='datetime64[ns]')"
      ]
     },
     "execution_count": 32,
     "metadata": {},
     "output_type": "execute_result"
    }
   ],
   "source": []
  },
  {
   "cell_type": "code",
   "execution_count": null,
   "metadata": {},
   "outputs": [],
   "source": []
  },
  {
   "cell_type": "code",
   "execution_count": null,
   "metadata": {},
   "outputs": [],
   "source": []
  },
  {
   "cell_type": "code",
   "execution_count": null,
   "metadata": {},
   "outputs": [],
   "source": []
  }
 ],
 "metadata": {
  "kernelspec": {
   "display_name": "Python 3",
   "language": "python",
   "name": "python3"
  },
  "language_info": {
   "codemirror_mode": {
    "name": "ipython",
    "version": 3
   },
   "file_extension": ".py",
   "mimetype": "text/x-python",
   "name": "python",
   "nbconvert_exporter": "python",
   "pygments_lexer": "ipython3",
   "version": "3.7.6"
  }
 },
 "nbformat": 4,
 "nbformat_minor": 2
}
