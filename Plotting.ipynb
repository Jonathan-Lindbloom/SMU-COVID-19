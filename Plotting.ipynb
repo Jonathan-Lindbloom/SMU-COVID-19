{
 "cells": [
  {
   "cell_type": "code",
   "execution_count": 65,
   "metadata": {},
   "outputs": [],
   "source": [
    "import numpy as np\n",
    "import matplotlib.pyplot as plt\n",
    "import pandas as pd\n",
    "import datetime as dt\n",
    "import os\n",
    "import sys"
   ]
  },
  {
   "cell_type": "code",
   "execution_count": 66,
   "metadata": {},
   "outputs": [],
   "source": [
    "# Import data\n",
    "df = pd.read_excel(\"raw_data.xlsx\")"
   ]
  },
  {
   "cell_type": "code",
   "execution_count": 67,
   "metadata": {},
   "outputs": [
    {
     "data": {
      "text/html": [
       "<div>\n",
       "<style scoped>\n",
       "    .dataframe tbody tr th:only-of-type {\n",
       "        vertical-align: middle;\n",
       "    }\n",
       "\n",
       "    .dataframe tbody tr th {\n",
       "        vertical-align: top;\n",
       "    }\n",
       "\n",
       "    .dataframe thead th {\n",
       "        text-align: right;\n",
       "    }\n",
       "</style>\n",
       "<table border=\"1\" class=\"dataframe\">\n",
       "  <thead>\n",
       "    <tr style=\"text-align: right;\">\n",
       "      <th></th>\n",
       "      <th>Campus Community Notified</th>\n",
       "      <th>Date SMU was Notified of Positive Test</th>\n",
       "      <th>Last Known Date on Campus</th>\n",
       "      <th>Description</th>\n",
       "      <th>Active</th>\n",
       "      <th>Student</th>\n",
       "      <th>OnOffStudent</th>\n",
       "      <th>Employee</th>\n",
       "      <th>NotificationLag</th>\n",
       "    </tr>\n",
       "  </thead>\n",
       "  <tbody>\n",
       "    <tr>\n",
       "      <th>241</th>\n",
       "      <td>2020-09-03</td>\n",
       "      <td>2020-09-03</td>\n",
       "      <td>2020-09-03</td>\n",
       "      <td>A student who lives on campus</td>\n",
       "      <td>1.0</td>\n",
       "      <td>1.0</td>\n",
       "      <td>1.0</td>\n",
       "      <td>0.0</td>\n",
       "      <td>0</td>\n",
       "    </tr>\n",
       "    <tr>\n",
       "      <th>242</th>\n",
       "      <td>2020-09-03</td>\n",
       "      <td>2020-09-03</td>\n",
       "      <td>2020-09-03</td>\n",
       "      <td>A student who lives off campus</td>\n",
       "      <td>1.0</td>\n",
       "      <td>1.0</td>\n",
       "      <td>0.0</td>\n",
       "      <td>0.0</td>\n",
       "      <td>0</td>\n",
       "    </tr>\n",
       "    <tr>\n",
       "      <th>243</th>\n",
       "      <td>2020-09-03</td>\n",
       "      <td>2020-09-03</td>\n",
       "      <td>2020-09-03</td>\n",
       "      <td>A student who lives on campus</td>\n",
       "      <td>1.0</td>\n",
       "      <td>1.0</td>\n",
       "      <td>1.0</td>\n",
       "      <td>0.0</td>\n",
       "      <td>0</td>\n",
       "    </tr>\n",
       "    <tr>\n",
       "      <th>244</th>\n",
       "      <td>2020-09-03</td>\n",
       "      <td>2020-09-03</td>\n",
       "      <td>2020-09-03</td>\n",
       "      <td>A student who lives on campus</td>\n",
       "      <td>1.0</td>\n",
       "      <td>1.0</td>\n",
       "      <td>1.0</td>\n",
       "      <td>0.0</td>\n",
       "      <td>0</td>\n",
       "    </tr>\n",
       "    <tr>\n",
       "      <th>245</th>\n",
       "      <td>NaT</td>\n",
       "      <td>NaT</td>\n",
       "      <td>NaT</td>\n",
       "      <td>NaN</td>\n",
       "      <td>NaN</td>\n",
       "      <td>NaN</td>\n",
       "      <td>NaN</td>\n",
       "      <td>NaN</td>\n",
       "      <td>x</td>\n",
       "    </tr>\n",
       "  </tbody>\n",
       "</table>\n",
       "</div>"
      ],
      "text/plain": [
       "    Campus Community Notified Date SMU was Notified of Positive Test  \\\n",
       "241                2020-09-03                             2020-09-03   \n",
       "242                2020-09-03                             2020-09-03   \n",
       "243                2020-09-03                             2020-09-03   \n",
       "244                2020-09-03                             2020-09-03   \n",
       "245                       NaT                                    NaT   \n",
       "\n",
       "    Last Known Date on Campus                     Description  Active  \\\n",
       "241                2020-09-03   A student who lives on campus     1.0   \n",
       "242                2020-09-03  A student who lives off campus     1.0   \n",
       "243                2020-09-03   A student who lives on campus     1.0   \n",
       "244                2020-09-03   A student who lives on campus     1.0   \n",
       "245                       NaT                             NaN     NaN   \n",
       "\n",
       "     Student  OnOffStudent  Employee NotificationLag  \n",
       "241      1.0           1.0       0.0               0  \n",
       "242      1.0           0.0       0.0               0  \n",
       "243      1.0           1.0       0.0               0  \n",
       "244      1.0           1.0       0.0               0  \n",
       "245      NaN           NaN       NaN               x  "
      ]
     },
     "execution_count": 67,
     "metadata": {},
     "output_type": "execute_result"
    }
   ],
   "source": [
    "df.tail()"
   ]
  },
  {
   "cell_type": "markdown",
   "metadata": {},
   "source": [
    "# Active Cases"
   ]
  },
  {
   "cell_type": "code",
   "execution_count": 68,
   "metadata": {},
   "outputs": [],
   "source": [
    "temp = df.copy()\n",
    "temp_smu_dates = np.sort(temp[\"Date SMU was Notified of Positive Test\"].unique())"
   ]
  },
  {
   "cell_type": "code",
   "execution_count": 69,
   "metadata": {},
   "outputs": [],
   "source": [
    "counts = np.zeros(len(temp_smu_dates))\n",
    "for i in range(len(temp_smu_dates)):\n",
    "    sub_count = len(temp[temp[\"Date SMU was Notified of Positive Test\"] == temp_smu_dates[i]])\n",
    "    counts[i] = sub_count"
   ]
  },
  {
   "cell_type": "code",
   "execution_count": 70,
   "metadata": {},
   "outputs": [
    {
     "data": {
      "image/png": "[encoded data removed]",
      "text/plain": [
       "<Figure size 720x360 with 1 Axes>"
      ]
     },
     "metadata": {
      "needs_background": "light"
     },
     "output_type": "display_data"
    }
   ],
   "source": [
    "plt.figure(figsize=(10,5))\n",
    "plt.fill_between(temp_smu_dates, np.cumsum(counts))\n",
    "plt.title(\"SMU Cumulative Confirmed Cases, All-time\")\n",
    "plt.axvline(np.datetime64(dt.datetime.strptime(\"20-08-24\", \"%y-%m-%d\")), ymin=0, c=\"k\")\n",
    "plt.axvline(np.datetime64(dt.datetime.now()), ymin=0, c=\"r\")\n",
    "plt.ylabel(\"# of Cases\")\n",
    "plt.savefig(\"cumulative_cases_all_time.png\")"
   ]
  },
  {
   "cell_type": "code",
   "execution_count": 71,
   "metadata": {},
   "outputs": [
    {
     "data": {
      "image/png": "[encoded data removed]",
      "text/plain": [
       "<Figure size 720x360 with 1 Axes>"
      ]
     },
     "metadata": {
      "needs_background": "light"
     },
     "output_type": "display_data"
    }
   ],
   "source": [
    "plt.figure(figsize=(10,5))\n",
    "plt.fill_between(temp_smu_dates[28:], np.cumsum(counts[28:]))\n",
    "plt.title(\"SMU Cumulative Confirmed Cases, Starting August 1st\")\n",
    "plt.axvline(np.datetime64(dt.datetime.strptime(\"20-08-24\", \"%y-%m-%d\")), ymin=0, c=\"k\")\n",
    "plt.axvline(np.datetime64(dt.datetime.now()), ymin=0, c=\"r\")\n",
    "plt.ylabel(\"# of Cases\")\n",
    "plt.savefig(\"cumulative_cases_starting_august.png\")"
   ]
  },
  {
   "cell_type": "code",
   "execution_count": 72,
   "metadata": {},
   "outputs": [],
   "source": [
    "# Save dataframe.\n",
    "d = {'Date': temp_smu_dates, 'Cases Reported to SMU': counts, \"Cumulative Cases\": np.cumsum(counts) }\n",
    "d = pd.DataFrame(data=d)\n",
    "d.to_csv(\"cleaned_case_data.csv\", index=False)"
   ]
  },
  {
   "cell_type": "code",
   "execution_count": 73,
   "metadata": {},
   "outputs": [],
   "source": [
    "# Save dataframe.\n",
    "d = {'Date': temp_smu_dates[29:], 'Cases Reported to SMU': counts[29:], \"Cumulative Cases\": np.cumsum(counts[29:]) }\n",
    "d = pd.DataFrame(data=d)\n",
    "d.to_csv(\"cleaned_case_data_starting_august.csv\", index=False)"
   ]
  },
  {
   "cell_type": "code",
   "execution_count": 74,
   "metadata": {},
   "outputs": [
    {
     "data": {
      "image/png": "[encoded data removed]",
      "text/plain": [
       "<Figure size 720x360 with 1 Axes>"
      ]
     },
     "metadata": {
      "needs_background": "light"
     },
     "output_type": "display_data"
    }
   ],
   "source": [
    "# Daily new cases.\n",
    "plt.figure(figsize=(10,5))\n",
    "plt.plot(temp_smu_dates, counts)\n",
    "plt.scatter(temp_smu_dates, counts)\n",
    "plt.title(\"SMU Daily New Cases, All-time\")\n",
    "plt.axvline(np.datetime64(dt.datetime.strptime(\"20-08-24\", \"%y-%m-%d\")), ymin=0, c=\"k\")\n",
    "plt.axvline(np.datetime64(dt.datetime.now()), ymin=0, c=\"r\")\n",
    "plt.ylabel(\"# of Cases\")\n",
    "plt.savefig(\"daily_new_cases_all_time.png\")"
   ]
  },
  {
   "cell_type": "code",
   "execution_count": 75,
   "metadata": {},
   "outputs": [
    {
     "data": {
      "image/png": "[encoded data removed]",
      "text/plain": [
       "<Figure size 720x360 with 1 Axes>"
      ]
     },
     "metadata": {
      "needs_background": "light"
     },
     "output_type": "display_data"
    }
   ],
   "source": [
    "# Daily new cases.\n",
    "plt.figure(figsize=(10,5))\n",
    "plt.plot(temp_smu_dates[28:], counts[28:])\n",
    "plt.scatter(temp_smu_dates[28:], counts[28:])\n",
    "plt.title(\"SMU Daily New Cases, Starting August 1st\")\n",
    "plt.axvline(np.datetime64(dt.datetime.strptime(\"20-08-24\", \"%y-%m-%d\")), ymin=0, c=\"k\")\n",
    "plt.axvline(np.datetime64(dt.datetime.now()), ymin=0, c=\"r\")\n",
    "plt.ylabel(\"# of Cases\")\n",
    "plt.savefig(\"daily_new_cases_starting_august.png\")"
   ]
  },
  {
   "cell_type": "code",
   "execution_count": null,
   "metadata": {},
   "outputs": [],
   "source": []
  },
  {
   "cell_type": "markdown",
   "metadata": {},
   "source": [
    "# On/off Campus."
   ]
  },
  {
   "cell_type": "code",
   "execution_count": 76,
   "metadata": {},
   "outputs": [
    {
     "data": {
      "text/html": [
       "<div>\n",
       "<style scoped>\n",
       "    .dataframe tbody tr th:only-of-type {\n",
       "        vertical-align: middle;\n",
       "    }\n",
       "\n",
       "    .dataframe tbody tr th {\n",
       "        vertical-align: top;\n",
       "    }\n",
       "\n",
       "    .dataframe thead th {\n",
       "        text-align: right;\n",
       "    }\n",
       "</style>\n",
       "<table border=\"1\" class=\"dataframe\">\n",
       "  <thead>\n",
       "    <tr style=\"text-align: right;\">\n",
       "      <th></th>\n",
       "      <th>Campus Community Notified</th>\n",
       "      <th>Date SMU was Notified of Positive Test</th>\n",
       "      <th>Last Known Date on Campus</th>\n",
       "      <th>Description</th>\n",
       "      <th>Active</th>\n",
       "      <th>Student</th>\n",
       "      <th>OnOffStudent</th>\n",
       "      <th>Employee</th>\n",
       "      <th>NotificationLag</th>\n",
       "    </tr>\n",
       "  </thead>\n",
       "  <tbody>\n",
       "    <tr>\n",
       "      <th>0</th>\n",
       "      <td>2020-08-28</td>\n",
       "      <td>2020-08-27</td>\n",
       "      <td>2020-08-24</td>\n",
       "      <td>A student who lives off campus</td>\n",
       "      <td>1.0</td>\n",
       "      <td>1.0</td>\n",
       "      <td>0.0</td>\n",
       "      <td>0.0</td>\n",
       "      <td>1</td>\n",
       "    </tr>\n",
       "    <tr>\n",
       "      <th>1</th>\n",
       "      <td>2020-08-28</td>\n",
       "      <td>2020-08-27</td>\n",
       "      <td>2020-08-27</td>\n",
       "      <td>A student who lives off campus</td>\n",
       "      <td>1.0</td>\n",
       "      <td>1.0</td>\n",
       "      <td>0.0</td>\n",
       "      <td>0.0</td>\n",
       "      <td>1</td>\n",
       "    </tr>\n",
       "    <tr>\n",
       "      <th>2</th>\n",
       "      <td>2020-08-28</td>\n",
       "      <td>2020-08-27</td>\n",
       "      <td>2020-08-27</td>\n",
       "      <td>A student who lives on campus</td>\n",
       "      <td>1.0</td>\n",
       "      <td>1.0</td>\n",
       "      <td>1.0</td>\n",
       "      <td>0.0</td>\n",
       "      <td>1</td>\n",
       "    </tr>\n",
       "    <tr>\n",
       "      <th>3</th>\n",
       "      <td>2020-08-28</td>\n",
       "      <td>2020-08-27</td>\n",
       "      <td>2020-08-27</td>\n",
       "      <td>A student who lives on campus</td>\n",
       "      <td>1.0</td>\n",
       "      <td>1.0</td>\n",
       "      <td>1.0</td>\n",
       "      <td>0.0</td>\n",
       "      <td>1</td>\n",
       "    </tr>\n",
       "    <tr>\n",
       "      <th>4</th>\n",
       "      <td>2020-08-28</td>\n",
       "      <td>2020-08-27</td>\n",
       "      <td>2020-08-27</td>\n",
       "      <td>A student who lives off campus</td>\n",
       "      <td>1.0</td>\n",
       "      <td>1.0</td>\n",
       "      <td>0.0</td>\n",
       "      <td>0.0</td>\n",
       "      <td>1</td>\n",
       "    </tr>\n",
       "  </tbody>\n",
       "</table>\n",
       "</div>"
      ],
      "text/plain": [
       "  Campus Community Notified Date SMU was Notified of Positive Test  \\\n",
       "0                2020-08-28                             2020-08-27   \n",
       "1                2020-08-28                             2020-08-27   \n",
       "2                2020-08-28                             2020-08-27   \n",
       "3                2020-08-28                             2020-08-27   \n",
       "4                2020-08-28                             2020-08-27   \n",
       "\n",
       "  Last Known Date on Campus                     Description  Active  Student  \\\n",
       "0                2020-08-24  A student who lives off campus     1.0      1.0   \n",
       "1                2020-08-27  A student who lives off campus     1.0      1.0   \n",
       "2                2020-08-27   A student who lives on campus     1.0      1.0   \n",
       "3                2020-08-27   A student who lives on campus     1.0      1.0   \n",
       "4                2020-08-27  A student who lives off campus     1.0      1.0   \n",
       "\n",
       "   OnOffStudent  Employee NotificationLag  \n",
       "0           0.0       0.0               1  \n",
       "1           0.0       0.0               1  \n",
       "2           1.0       0.0               1  \n",
       "3           1.0       0.0               1  \n",
       "4           0.0       0.0               1  "
      ]
     },
     "execution_count": 76,
     "metadata": {},
     "output_type": "execute_result"
    }
   ],
   "source": [
    "df.head()"
   ]
  },
  {
   "cell_type": "code",
   "execution_count": 77,
   "metadata": {},
   "outputs": [],
   "source": [
    "on_campus = df[df[\"OnOffStudent\"] == 1]\n",
    "off_campus = df[(df[\"Student\"] == 1)&(df[\"OnOffStudent\"] == 0)]"
   ]
  },
  {
   "cell_type": "code",
   "execution_count": 78,
   "metadata": {},
   "outputs": [],
   "source": [
    "on_counts = np.zeros(len(temp_smu_dates))\n",
    "off_counts = np.zeros(len(temp_smu_dates))\n",
    "for i in range(len(temp_smu_dates)):\n",
    "    on_sub_count = len(on_campus[on_campus[\"Date SMU was Notified of Positive Test\"] == temp_smu_dates[i]])\n",
    "    off_sub_count = len(off_campus[off_campus[\"Date SMU was Notified of Positive Test\"] == temp_smu_dates[i]])\n",
    "    on_counts[i] = on_sub_count\n",
    "    off_counts[i] = off_sub_count "
   ]
  },
  {
   "cell_type": "code",
   "execution_count": 79,
   "metadata": {},
   "outputs": [
    {
     "data": {
      "image/png": "[encoded data removed]",
      "text/plain": [
       "<Figure size 720x360 with 1 Axes>"
      ]
     },
     "metadata": {
      "needs_background": "light"
     },
     "output_type": "display_data"
    }
   ],
   "source": [
    "# Daily new cases.\n",
    "plt.figure(figsize=(10,5))\n",
    "\n",
    "plt.plot(temp_smu_dates[29:], np.cumsum(on_counts[29:]))\n",
    "plt.scatter(temp_smu_dates[29:], np.cumsum(on_counts[29:]), label=\"On Campus Students\")\n",
    "\n",
    "plt.plot(temp_smu_dates[29:], np.cumsum(off_counts[29:]))\n",
    "plt.scatter(temp_smu_dates[29:], np.cumsum(off_counts[29:]), label=\"Off Campus Students\")\n",
    "\n",
    "plt.plot(temp_smu_dates[29:], np.cumsum(counts[29:]))\n",
    "plt.scatter(temp_smu_dates[29:], np.cumsum(counts[29:]), label=\"Total\")\n",
    "\n",
    "plt.title(\"SMU Cumulative On/Off Campus Cases, Starting August 1st\")\n",
    "plt.axvline(np.datetime64(dt.datetime.strptime(\"20-08-24\", \"%y-%m-%d\")), ymin=0, c=\"k\")\n",
    "plt.axvline(np.datetime64(dt.datetime.now()), ymin=0, c=\"r\")\n",
    "plt.ylabel(\"# of Cases\")\n",
    "plt.legend()\n",
    "plt.savefig(\"cumulative_on_off_cases_starting_august.png\")"
   ]
  },
  {
   "cell_type": "code",
   "execution_count": null,
   "metadata": {},
   "outputs": [],
   "source": []
  },
  {
   "cell_type": "code",
   "execution_count": 80,
   "metadata": {},
   "outputs": [
    {
     "name": "stdout",
     "output_type": "stream",
     "text": [
      "86\n"
     ]
    }
   ],
   "source": [
    "# Calculate number of on-campus infected students.\n",
    "print(len(df[(df[\"Active\"] == 1)&(df[\"OnOffStudent\"] == 1)]))"
   ]
  },
  {
   "cell_type": "code",
   "execution_count": null,
   "metadata": {},
   "outputs": [],
   "source": []
  },
  {
   "cell_type": "code",
   "execution_count": null,
   "metadata": {},
   "outputs": [],
   "source": []
  },
  {
   "cell_type": "markdown",
   "metadata": {},
   "source": [
    "# Compute Active Cases"
   ]
  },
  {
   "cell_type": "code",
   "execution_count": 157,
   "metadata": {},
   "outputs": [],
   "source": [
    "temp = df.copy()\n",
    "temp_smu_dates = np.sort(temp[\"Date SMU was Notified of Positive Test\"].unique())"
   ]
  },
  {
   "cell_type": "code",
   "execution_count": 158,
   "metadata": {},
   "outputs": [],
   "source": [
    "all_dates = pd.date_range(min(temp_smu_dates), max(temp_smu_dates)).values"
   ]
  },
  {
   "cell_type": "code",
   "execution_count": 159,
   "metadata": {},
   "outputs": [],
   "source": [
    "ts = \"Date SMU was Notified of Positive Test\""
   ]
  },
  {
   "cell_type": "code",
   "execution_count": 160,
   "metadata": {},
   "outputs": [],
   "source": [
    "on_cases = temp[ temp[\"OnOffStudent\"] == 1]\n",
    "off_cases = temp[ (temp[\"OnOffStudent\"] == 0)&(temp[\"Student\"] == 1) ]\n",
    "employee_cases = temp[ temp[\"Student\"] == 0 ]"
   ]
  },
  {
   "cell_type": "code",
   "execution_count": 161,
   "metadata": {},
   "outputs": [],
   "source": [
    "actives = []\n",
    "on_actives = []\n",
    "off_actives = []\n",
    "employee_actives = []\n",
    "cumulative_cases = []\n",
    "for i in range(len(all_dates)):\n",
    "    actives.append( len(temp[ (temp[ts] <= all_dates[i])&(temp[ts] >= all_dates[i] - np.timedelta64(10, \"D\") ) ]))\n",
    "    on_actives.append( len(on_cases[ (on_cases[ts] <= all_dates[i])&(on_cases[ts] >= all_dates[i] - np.timedelta64(10, \"D\") ) ]))\n",
    "    off_actives.append( len(off_cases[ (off_cases[ts] <= all_dates[i])&(off_cases[ts] >= all_dates[i] - np.timedelta64(10, \"D\") ) ]))\n",
    "    employee_actives.append( len(employee_cases[ (employee_cases[ts] <= all_dates[i])&(employee_cases[ts] >= all_dates[i] - np.timedelta64(10, \"D\") ) ]))\n",
    "    cumulative_cases.append( len( temp[ temp[ts] <= all_dates[i] ]  )  )\n",
    "actives = np.array(actives)\n",
    "on_actives = np.array(on_actives)\n",
    "off_actives = np.array(off_actives)\n",
    "employee_actives = np.array(employee_actives)\n",
    "cumulative_cases = np.array(cumulative_cases)"
   ]
  },
  {
   "cell_type": "code",
   "execution_count": null,
   "metadata": {},
   "outputs": [],
   "source": []
  },
  {
   "cell_type": "code",
   "execution_count": 162,
   "metadata": {},
   "outputs": [],
   "source": [
    "# Save dataframe.\n",
    "d = {'Date': all_dates, 'EstTotalActive': actives,\n",
    "    \"EstOnActive\":on_actives, \"EstOffActive\":off_actives, \"EstEmpActive\":employee_actives, \n",
    "    \"Cumulative\":cumulative_cases}\n",
    "d = pd.DataFrame(data=d)\n",
    "d.to_csv(\"est_active_data.csv\", index=False)"
   ]
  },
  {
   "cell_type": "code",
   "execution_count": null,
   "metadata": {},
   "outputs": [],
   "source": []
  },
  {
   "cell_type": "code",
   "execution_count": null,
   "metadata": {},
   "outputs": [],
   "source": []
  },
  {
   "cell_type": "code",
   "execution_count": null,
   "metadata": {},
   "outputs": [],
   "source": []
  },
  {
   "cell_type": "code",
   "execution_count": null,
   "metadata": {},
   "outputs": [],
   "source": []
  },
  {
   "cell_type": "code",
   "execution_count": null,
   "metadata": {},
   "outputs": [],
   "source": []
  },
  {
   "cell_type": "code",
   "execution_count": null,
   "metadata": {},
   "outputs": [],
   "source": []
  }
 ],
 "metadata": {
  "kernelspec": {
   "display_name": "Python 3",
   "language": "python",
   "name": "python3"
  },
  "language_info": {
   "codemirror_mode": {
    "name": "ipython",
    "version": 3
   },
   "file_extension": ".py",
   "mimetype": "text/x-python",
   "name": "python",
   "nbconvert_exporter": "python",
   "pygments_lexer": "ipython3",
   "version": "3.7.6"
  }
 },
 "nbformat": 4,
 "nbformat_minor": 2
}
