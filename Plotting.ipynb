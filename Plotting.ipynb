{
 "cells": [
  {
   "cell_type": "code",
   "execution_count": 29,
   "metadata": {},
   "outputs": [],
   "source": [
    "import numpy as np\n",
    "import matplotlib.pyplot as plt\n",
    "import pandas as pd\n",
    "import datetime as dt\n",
    "import os\n",
    "import sys"
   ]
  },
  {
   "cell_type": "code",
   "execution_count": 30,
   "metadata": {},
   "outputs": [],
   "source": [
    "#!pip install xlrd"
   ]
  },
  {
   "cell_type": "code",
   "execution_count": 31,
   "metadata": {},
   "outputs": [],
   "source": [
    "# Import data\n",
    "df = pd.read_excel(\"raw_data.xlsx\")"
   ]
  },
  {
   "cell_type": "code",
   "execution_count": 32,
   "metadata": {},
   "outputs": [
    {
     "data": {
      "text/html": [
       "<div>\n",
       "<style scoped>\n",
       "    .dataframe tbody tr th:only-of-type {\n",
       "        vertical-align: middle;\n",
       "    }\n",
       "\n",
       "    .dataframe tbody tr th {\n",
       "        vertical-align: top;\n",
       "    }\n",
       "\n",
       "    .dataframe thead th {\n",
       "        text-align: right;\n",
       "    }\n",
       "</style>\n",
       "<table border=\"1\" class=\"dataframe\">\n",
       "  <thead>\n",
       "    <tr style=\"text-align: right;\">\n",
       "      <th></th>\n",
       "      <th>Campus Community Notified</th>\n",
       "      <th>Date SMU was Notified of Positive Test</th>\n",
       "      <th>Last Known Date on Campus</th>\n",
       "      <th>Description</th>\n",
       "      <th>Active</th>\n",
       "      <th>Student</th>\n",
       "      <th>OnOffStudent</th>\n",
       "      <th>Employee</th>\n",
       "      <th>NotificationLag</th>\n",
       "    </tr>\n",
       "  </thead>\n",
       "  <tbody>\n",
       "    <tr>\n",
       "      <th>451</th>\n",
       "      <td>2020-09-12</td>\n",
       "      <td>2020-09-11</td>\n",
       "      <td>2020-09-07</td>\n",
       "      <td>A student who lives off campus</td>\n",
       "      <td>1</td>\n",
       "      <td>1</td>\n",
       "      <td>0</td>\n",
       "      <td>0</td>\n",
       "      <td>1</td>\n",
       "    </tr>\n",
       "    <tr>\n",
       "      <th>452</th>\n",
       "      <td>2020-09-12</td>\n",
       "      <td>2020-09-11</td>\n",
       "      <td>2020-09-11</td>\n",
       "      <td>A student who lives on campus</td>\n",
       "      <td>1</td>\n",
       "      <td>1</td>\n",
       "      <td>1</td>\n",
       "      <td>0</td>\n",
       "      <td>1</td>\n",
       "    </tr>\n",
       "    <tr>\n",
       "      <th>453</th>\n",
       "      <td>2020-09-12</td>\n",
       "      <td>2020-09-11</td>\n",
       "      <td>2020-09-11</td>\n",
       "      <td>A student who lives off campus</td>\n",
       "      <td>1</td>\n",
       "      <td>1</td>\n",
       "      <td>0</td>\n",
       "      <td>0</td>\n",
       "      <td>1</td>\n",
       "    </tr>\n",
       "    <tr>\n",
       "      <th>454</th>\n",
       "      <td>2020-09-12</td>\n",
       "      <td>2020-09-11</td>\n",
       "      <td>2020-09-11</td>\n",
       "      <td>A student who lives on campus</td>\n",
       "      <td>1</td>\n",
       "      <td>1</td>\n",
       "      <td>1</td>\n",
       "      <td>0</td>\n",
       "      <td>1</td>\n",
       "    </tr>\n",
       "    <tr>\n",
       "      <th>455</th>\n",
       "      <td>2020-09-12</td>\n",
       "      <td>2020-09-11</td>\n",
       "      <td>2020-09-11</td>\n",
       "      <td>A student who lives on campus</td>\n",
       "      <td>1</td>\n",
       "      <td>1</td>\n",
       "      <td>1</td>\n",
       "      <td>0</td>\n",
       "      <td>1</td>\n",
       "    </tr>\n",
       "  </tbody>\n",
       "</table>\n",
       "</div>"
      ],
      "text/plain": [
       "    Campus Community Notified Date SMU was Notified of Positive Test  \\\n",
       "451                2020-09-12                             2020-09-11   \n",
       "452                2020-09-12                             2020-09-11   \n",
       "453                2020-09-12                             2020-09-11   \n",
       "454                2020-09-12                             2020-09-11   \n",
       "455                2020-09-12                             2020-09-11   \n",
       "\n",
       "    Last Known Date on Campus                     Description  Active  \\\n",
       "451                2020-09-07  A student who lives off campus       1   \n",
       "452                2020-09-11   A student who lives on campus       1   \n",
       "453                2020-09-11  A student who lives off campus       1   \n",
       "454                2020-09-11   A student who lives on campus       1   \n",
       "455                2020-09-11   A student who lives on campus       1   \n",
       "\n",
       "     Student  OnOffStudent  Employee  NotificationLag  \n",
       "451        1             0         0                1  \n",
       "452        1             1         0                1  \n",
       "453        1             0         0                1  \n",
       "454        1             1         0                1  \n",
       "455        1             1         0                1  "
      ]
     },
     "execution_count": 32,
     "metadata": {},
     "output_type": "execute_result"
    }
   ],
   "source": [
    "df = df.dropna()\n",
    "df.tail()"
   ]
  },
  {
   "cell_type": "markdown",
   "metadata": {},
   "source": [
    "# Active Cases"
   ]
  },
  {
   "cell_type": "code",
   "execution_count": 33,
   "metadata": {},
   "outputs": [],
   "source": [
    "temp = df.copy()\n",
    "temp_smu_dates = np.sort(temp[\"Date SMU was Notified of Positive Test\"].unique())"
   ]
  },
  {
   "cell_type": "code",
   "execution_count": 34,
   "metadata": {},
   "outputs": [],
   "source": [
    "counts = np.zeros(len(temp_smu_dates))\n",
    "for i in range(len(temp_smu_dates)):\n",
    "    sub_count = len(temp[temp[\"Date SMU was Notified of Positive Test\"] == temp_smu_dates[i]])\n",
    "    counts[i] = sub_count"
   ]
  },
  {
   "cell_type": "code",
   "execution_count": 35,
   "metadata": {},
   "outputs": [
    {
     "data": {
      "image/png": "[encoded data removed]",
      "text/plain": [
       "<Figure size 720x360 with 1 Axes>"
      ]
     },
     "metadata": {
      "needs_background": "light"
     },
     "output_type": "display_data"
    }
   ],
   "source": [
    "plt.figure(figsize=(10,5))\n",
    "plt.fill_between(temp_smu_dates, np.cumsum(counts))\n",
    "plt.title(\"SMU Cumulative Confirmed Cases, All-time\")\n",
    "plt.axvline(np.datetime64(dt.datetime.strptime(\"20-08-24\", \"%y-%m-%d\")), ymin=0, c=\"k\")\n",
    "plt.axvline(np.datetime64(dt.datetime.now()), ymin=0, c=\"r\")\n",
    "plt.ylabel(\"# of Cases\")\n",
    "plt.savefig(\"cumulative_cases_all_time.png\")"
   ]
  },
  {
   "cell_type": "code",
   "execution_count": 36,
   "metadata": {},
   "outputs": [
    {
     "data": {
      "image/png": "[encoded data removed]",
      "text/plain": [
       "<Figure size 720x360 with 1 Axes>"
      ]
     },
     "metadata": {
      "needs_background": "light"
     },
     "output_type": "display_data"
    }
   ],
   "source": [
    "plt.figure(figsize=(10,5))\n",
    "plt.fill_between(temp_smu_dates[28:], np.cumsum(counts[28:]))\n",
    "plt.title(\"SMU Cumulative Confirmed Cases, Starting August 1st\")\n",
    "plt.axvline(np.datetime64(dt.datetime.strptime(\"20-08-24\", \"%y-%m-%d\")), ymin=0, c=\"k\")\n",
    "plt.axvline(np.datetime64(dt.datetime.now()), ymin=0, c=\"r\")\n",
    "plt.ylabel(\"# of Cases\")\n",
    "plt.savefig(\"cumulative_cases_starting_august.png\")"
   ]
  },
  {
   "cell_type": "code",
   "execution_count": 37,
   "metadata": {},
   "outputs": [],
   "source": [
    "# Save dataframe.\n",
    "d = {'Date': temp_smu_dates, 'Cases Reported to SMU': counts, \"Cumulative Cases\": np.cumsum(counts) }\n",
    "d = pd.DataFrame(data=d)\n",
    "d.to_csv(\"cleaned_case_data.csv\", index=False)"
   ]
  },
  {
   "cell_type": "code",
   "execution_count": 38,
   "metadata": {},
   "outputs": [],
   "source": [
    "# Save dataframe.\n",
    "d = {'Date': temp_smu_dates[29:], 'Cases Reported to SMU': counts[29:], \"Cumulative Cases\": np.cumsum(counts[29:]) }\n",
    "d = pd.DataFrame(data=d)\n",
    "d.to_csv(\"cleaned_case_data_starting_august.csv\", index=False)"
   ]
  },
  {
   "cell_type": "code",
   "execution_count": 39,
   "metadata": {},
   "outputs": [
    {
     "data": {
      "image/png": "[encoded data removed]",
      "text/plain": [
       "<Figure size 720x360 with 1 Axes>"
      ]
     },
     "metadata": {
      "needs_background": "light"
     },
     "output_type": "display_data"
    }
   ],
   "source": [
    "# Daily new cases.\n",
    "plt.figure(figsize=(10,5))\n",
    "plt.plot(temp_smu_dates, counts)\n",
    "plt.scatter(temp_smu_dates, counts)\n",
    "plt.title(\"SMU Daily New Cases, All-time\")\n",
    "plt.axvline(np.datetime64(dt.datetime.strptime(\"20-08-24\", \"%y-%m-%d\")), ymin=0, c=\"k\")\n",
    "plt.axvline(np.datetime64(dt.datetime.now()), ymin=0, c=\"r\")\n",
    "plt.ylabel(\"# of Cases\")\n",
    "plt.savefig(\"daily_new_cases_all_time.png\")"
   ]
  },
  {
   "cell_type": "code",
   "execution_count": 40,
   "metadata": {},
   "outputs": [
    {
     "data": {
      "image/png": "[encoded data removed]",
      "text/plain": [
       "<Figure size 720x360 with 1 Axes>"
      ]
     },
     "metadata": {
      "needs_background": "light"
     },
     "output_type": "display_data"
    }
   ],
   "source": [
    "# Daily new cases.\n",
    "plt.figure(figsize=(10,5))\n",
    "plt.plot(temp_smu_dates[28:], counts[28:])\n",
    "plt.scatter(temp_smu_dates[28:], counts[28:])\n",
    "plt.title(\"SMU Daily New Cases, Starting August 1st\")\n",
    "plt.axvline(np.datetime64(dt.datetime.strptime(\"20-08-24\", \"%y-%m-%d\")), ymin=0, c=\"k\")\n",
    "plt.axvline(np.datetime64(dt.datetime.now()), ymin=0, c=\"r\")\n",
    "plt.ylabel(\"# of Cases\")\n",
    "plt.savefig(\"daily_new_cases_starting_august.png\")"
   ]
  },
  {
   "cell_type": "code",
   "execution_count": null,
   "metadata": {},
   "outputs": [],
   "source": []
  },
  {
   "cell_type": "markdown",
   "metadata": {},
   "source": [
    "# On/off Campus."
   ]
  },
  {
   "cell_type": "code",
   "execution_count": 41,
   "metadata": {},
   "outputs": [
    {
     "data": {
      "text/html": [
       "<div>\n",
       "<style scoped>\n",
       "    .dataframe tbody tr th:only-of-type {\n",
       "        vertical-align: middle;\n",
       "    }\n",
       "\n",
       "    .dataframe tbody tr th {\n",
       "        vertical-align: top;\n",
       "    }\n",
       "\n",
       "    .dataframe thead th {\n",
       "        text-align: right;\n",
       "    }\n",
       "</style>\n",
       "<table border=\"1\" class=\"dataframe\">\n",
       "  <thead>\n",
       "    <tr style=\"text-align: right;\">\n",
       "      <th></th>\n",
       "      <th>Campus Community Notified</th>\n",
       "      <th>Date SMU was Notified of Positive Test</th>\n",
       "      <th>Last Known Date on Campus</th>\n",
       "      <th>Description</th>\n",
       "      <th>Active</th>\n",
       "      <th>Student</th>\n",
       "      <th>OnOffStudent</th>\n",
       "      <th>Employee</th>\n",
       "      <th>NotificationLag</th>\n",
       "    </tr>\n",
       "  </thead>\n",
       "  <tbody>\n",
       "    <tr>\n",
       "      <th>0</th>\n",
       "      <td>2020-08-28</td>\n",
       "      <td>2020-08-27</td>\n",
       "      <td>2020-08-24</td>\n",
       "      <td>A student who lives off campus</td>\n",
       "      <td>1</td>\n",
       "      <td>1</td>\n",
       "      <td>0</td>\n",
       "      <td>0</td>\n",
       "      <td>1</td>\n",
       "    </tr>\n",
       "    <tr>\n",
       "      <th>1</th>\n",
       "      <td>2020-08-28</td>\n",
       "      <td>2020-08-27</td>\n",
       "      <td>2020-08-27</td>\n",
       "      <td>A student who lives off campus</td>\n",
       "      <td>0</td>\n",
       "      <td>1</td>\n",
       "      <td>0</td>\n",
       "      <td>0</td>\n",
       "      <td>1</td>\n",
       "    </tr>\n",
       "    <tr>\n",
       "      <th>2</th>\n",
       "      <td>2020-08-28</td>\n",
       "      <td>2020-08-27</td>\n",
       "      <td>2020-08-27</td>\n",
       "      <td>A student who lives on campus</td>\n",
       "      <td>0</td>\n",
       "      <td>1</td>\n",
       "      <td>1</td>\n",
       "      <td>0</td>\n",
       "      <td>1</td>\n",
       "    </tr>\n",
       "    <tr>\n",
       "      <th>3</th>\n",
       "      <td>2020-08-28</td>\n",
       "      <td>2020-08-27</td>\n",
       "      <td>2020-08-27</td>\n",
       "      <td>A student who lives on campus</td>\n",
       "      <td>0</td>\n",
       "      <td>1</td>\n",
       "      <td>1</td>\n",
       "      <td>0</td>\n",
       "      <td>1</td>\n",
       "    </tr>\n",
       "    <tr>\n",
       "      <th>4</th>\n",
       "      <td>2020-08-28</td>\n",
       "      <td>2020-08-27</td>\n",
       "      <td>2020-08-27</td>\n",
       "      <td>A student who lives off campus</td>\n",
       "      <td>0</td>\n",
       "      <td>1</td>\n",
       "      <td>0</td>\n",
       "      <td>0</td>\n",
       "      <td>1</td>\n",
       "    </tr>\n",
       "  </tbody>\n",
       "</table>\n",
       "</div>"
      ],
      "text/plain": [
       "  Campus Community Notified Date SMU was Notified of Positive Test  \\\n",
       "0                2020-08-28                             2020-08-27   \n",
       "1                2020-08-28                             2020-08-27   \n",
       "2                2020-08-28                             2020-08-27   \n",
       "3                2020-08-28                             2020-08-27   \n",
       "4                2020-08-28                             2020-08-27   \n",
       "\n",
       "  Last Known Date on Campus                     Description  Active  Student  \\\n",
       "0                2020-08-24  A student who lives off campus       1        1   \n",
       "1                2020-08-27  A student who lives off campus       0        1   \n",
       "2                2020-08-27   A student who lives on campus       0        1   \n",
       "3                2020-08-27   A student who lives on campus       0        1   \n",
       "4                2020-08-27  A student who lives off campus       0        1   \n",
       "\n",
       "   OnOffStudent  Employee  NotificationLag  \n",
       "0             0         0                1  \n",
       "1             0         0                1  \n",
       "2             1         0                1  \n",
       "3             1         0                1  \n",
       "4             0         0                1  "
      ]
     },
     "execution_count": 41,
     "metadata": {},
     "output_type": "execute_result"
    }
   ],
   "source": [
    "df.head()"
   ]
  },
  {
   "cell_type": "code",
   "execution_count": 42,
   "metadata": {},
   "outputs": [],
   "source": [
    "on_campus = df[df[\"OnOffStudent\"] == 1]\n",
    "off_campus = df[(df[\"Student\"] == 1)&(df[\"OnOffStudent\"] == 0)]"
   ]
  },
  {
   "cell_type": "code",
   "execution_count": 43,
   "metadata": {},
   "outputs": [],
   "source": [
    "on_counts = np.zeros(len(temp_smu_dates))\n",
    "off_counts = np.zeros(len(temp_smu_dates))\n",
    "for i in range(len(temp_smu_dates)):\n",
    "    on_sub_count = len(on_campus[on_campus[\"Date SMU was Notified of Positive Test\"] == temp_smu_dates[i]])\n",
    "    off_sub_count = len(off_campus[off_campus[\"Date SMU was Notified of Positive Test\"] == temp_smu_dates[i]])\n",
    "    on_counts[i] = on_sub_count\n",
    "    off_counts[i] = off_sub_count "
   ]
  },
  {
   "cell_type": "code",
   "execution_count": 44,
   "metadata": {},
   "outputs": [
    {
     "data": {
      "image/png": "[encoded data removed]",
      "text/plain": [
       "<Figure size 720x360 with 1 Axes>"
      ]
     },
     "metadata": {
      "needs_background": "light"
     },
     "output_type": "display_data"
    }
   ],
   "source": [
    "# Daily new cases.\n",
    "plt.figure(figsize=(10,5))\n",
    "\n",
    "plt.plot(temp_smu_dates[29:], np.cumsum(on_counts[29:]))\n",
    "plt.scatter(temp_smu_dates[29:], np.cumsum(on_counts[29:]), label=\"On Campus Students\")\n",
    "\n",
    "plt.plot(temp_smu_dates[29:], np.cumsum(off_counts[29:]))\n",
    "plt.scatter(temp_smu_dates[29:], np.cumsum(off_counts[29:]), label=\"Off Campus Students\")\n",
    "\n",
    "plt.plot(temp_smu_dates[29:], np.cumsum(counts[29:]))\n",
    "plt.scatter(temp_smu_dates[29:], np.cumsum(counts[29:]), label=\"Total\")\n",
    "\n",
    "plt.title(\"SMU Cumulative On/Off Campus Cases, Starting August 1st\")\n",
    "plt.axvline(np.datetime64(dt.datetime.strptime(\"20-08-24\", \"%y-%m-%d\")), ymin=0, c=\"k\")\n",
    "plt.axvline(np.datetime64(dt.datetime.now()), ymin=0, c=\"r\")\n",
    "plt.ylabel(\"# of Cases\")\n",
    "plt.legend()\n",
    "plt.savefig(\"cumulative_on_off_cases_starting_august.png\")"
   ]
  },
  {
   "cell_type": "code",
   "execution_count": null,
   "metadata": {},
   "outputs": [],
   "source": []
  },
  {
   "cell_type": "code",
   "execution_count": 45,
   "metadata": {},
   "outputs": [
    {
     "name": "stdout",
     "output_type": "stream",
     "text": [
      "164\n"
     ]
    }
   ],
   "source": [
    "# Calculate number of on-campus infected students.\n",
    "print(len(df[(df[\"Active\"] == 1)&(df[\"OnOffStudent\"] == 1)]))"
   ]
  },
  {
   "cell_type": "code",
   "execution_count": null,
   "metadata": {},
   "outputs": [],
   "source": []
  },
  {
   "cell_type": "code",
   "execution_count": null,
   "metadata": {},
   "outputs": [],
   "source": []
  },
  {
   "cell_type": "markdown",
   "metadata": {},
   "source": [
    "# Compute Active Cases"
   ]
  },
  {
   "cell_type": "code",
   "execution_count": 46,
   "metadata": {},
   "outputs": [],
   "source": [
    "# Import data\n",
    "df = pd.read_excel(\"raw_data.xlsx\")"
   ]
  },
  {
   "cell_type": "code",
   "execution_count": 47,
   "metadata": {},
   "outputs": [],
   "source": [
    "temp = df.copy()\n",
    "temp = temp.dropna()\n",
    "temp_smu_dates = np.sort(temp[\"Date SMU was Notified of Positive Test\"].unique())"
   ]
  },
  {
   "cell_type": "code",
   "execution_count": 48,
   "metadata": {},
   "outputs": [],
   "source": [
    "all_dates = pd.date_range(min(temp_smu_dates), max(temp_smu_dates)).values"
   ]
  },
  {
   "cell_type": "code",
   "execution_count": 49,
   "metadata": {},
   "outputs": [],
   "source": [
    "ts = \"Date SMU was Notified of Positive Test\""
   ]
  },
  {
   "cell_type": "code",
   "execution_count": 50,
   "metadata": {},
   "outputs": [],
   "source": [
    "temp[ts] = temp[ts].astype('datetime64[ns]')"
   ]
  },
  {
   "cell_type": "code",
   "execution_count": null,
   "metadata": {},
   "outputs": [],
   "source": []
  },
  {
   "cell_type": "code",
   "execution_count": 51,
   "metadata": {},
   "outputs": [],
   "source": [
    "on_cases = temp[ temp[\"OnOffStudent\"] == 1]\n",
    "off_cases = temp[ (temp[\"OnOffStudent\"] == 0)&(temp[\"Student\"] == 1) ]\n",
    "employee_cases = temp[ temp[\"Student\"] == 0 ]"
   ]
  },
  {
   "cell_type": "code",
   "execution_count": null,
   "metadata": {},
   "outputs": [],
   "source": []
  },
  {
   "cell_type": "code",
   "execution_count": null,
   "metadata": {},
   "outputs": [],
   "source": []
  },
  {
   "cell_type": "code",
   "execution_count": 52,
   "metadata": {},
   "outputs": [],
   "source": [
    "actives = []\n",
    "on_actives = []\n",
    "off_actives = []\n",
    "employee_actives = []\n",
    "cumulative_cases = []\n",
    "lag = 10\n",
    "for i in range(len(all_dates)):\n",
    "    #print(type(temp[ts]))\n",
    "    #print(type(all_dates[i]))\n",
    "    #print(type(all_dates[i] - np.timedelta64(14, \"D\")))\n",
    "    #temp [ temp[ts] <= all_dates[i] ]\n",
    "    #len( temp [ (temp[ts] <= all_dates[i] )&(temp[ts] >= all_dates[i] - np.timedelta64(14, \"D\")) ])\n",
    "    actives.append( len( temp [ (temp[ts] <= all_dates[i] )&(temp[ts] >= all_dates[i] - np.timedelta64(lag, \"D\")) ]))\n",
    "    on_actives.append( len(on_cases[ (on_cases[ts] <= all_dates[i])&(on_cases[ts] >= all_dates[i] - np.timedelta64(lag, \"D\") ) ]))\n",
    "    off_actives.append( len(off_cases[ (off_cases[ts] <= all_dates[i])&(off_cases[ts] >= all_dates[i] - np.timedelta64(lag, \"D\") ) ]))\n",
    "    employee_actives.append( len(employee_cases[ (employee_cases[ts] <= all_dates[i])&(employee_cases[ts] >= all_dates[i] - np.timedelta64(lag, \"D\") ) ]))\n",
    "    cumulative_cases.append( len( temp[ temp[ts] <= all_dates[i] ]  )  )\n",
    "actives = np.array(actives)\n",
    "on_actives = np.array(on_actives)\n",
    "off_actives = np.array(off_actives)\n",
    "employee_actives = np.array(employee_actives)\n",
    "cumulative_cases = np.array(cumulative_cases)"
   ]
  },
  {
   "cell_type": "code",
   "execution_count": null,
   "metadata": {},
   "outputs": [],
   "source": []
  },
  {
   "cell_type": "code",
   "execution_count": 53,
   "metadata": {},
   "outputs": [],
   "source": [
    "# Save dataframe.\n",
    "d = {'Date': all_dates, 'EstTotalActive': actives,\n",
    "    \"EstOnActive\":on_actives, \"EstOffActive\":off_actives, \"EstEmpActive\":employee_actives, \n",
    "    \"Cumulative\":cumulative_cases}\n",
    "d = pd.DataFrame(data=d)\n",
    "d.to_csv(\"est_active_data.csv\", index=False)"
   ]
  },
  {
   "cell_type": "code",
   "execution_count": 54,
   "metadata": {},
   "outputs": [
    {
     "data": {
      "text/html": [
       "<div>\n",
       "<style scoped>\n",
       "    .dataframe tbody tr th:only-of-type {\n",
       "        vertical-align: middle;\n",
       "    }\n",
       "\n",
       "    .dataframe tbody tr th {\n",
       "        vertical-align: top;\n",
       "    }\n",
       "\n",
       "    .dataframe thead th {\n",
       "        text-align: right;\n",
       "    }\n",
       "</style>\n",
       "<table border=\"1\" class=\"dataframe\">\n",
       "  <thead>\n",
       "    <tr style=\"text-align: right;\">\n",
       "      <th></th>\n",
       "      <th>Date</th>\n",
       "      <th>EstTotalActive</th>\n",
       "      <th>EstOnActive</th>\n",
       "      <th>EstOffActive</th>\n",
       "      <th>EstEmpActive</th>\n",
       "      <th>Cumulative</th>\n",
       "    </tr>\n",
       "  </thead>\n",
       "  <tbody>\n",
       "    <tr>\n",
       "      <th>171</th>\n",
       "      <td>2020-09-07</td>\n",
       "      <td>230</td>\n",
       "      <td>132</td>\n",
       "      <td>94</td>\n",
       "      <td>4</td>\n",
       "      <td>355</td>\n",
       "    </tr>\n",
       "    <tr>\n",
       "      <th>172</th>\n",
       "      <td>2020-09-08</td>\n",
       "      <td>238</td>\n",
       "      <td>133</td>\n",
       "      <td>101</td>\n",
       "      <td>4</td>\n",
       "      <td>372</td>\n",
       "    </tr>\n",
       "    <tr>\n",
       "      <th>173</th>\n",
       "      <td>2020-09-09</td>\n",
       "      <td>251</td>\n",
       "      <td>136</td>\n",
       "      <td>112</td>\n",
       "      <td>3</td>\n",
       "      <td>407</td>\n",
       "    </tr>\n",
       "    <tr>\n",
       "      <th>174</th>\n",
       "      <td>2020-09-10</td>\n",
       "      <td>269</td>\n",
       "      <td>142</td>\n",
       "      <td>124</td>\n",
       "      <td>3</td>\n",
       "      <td>433</td>\n",
       "    </tr>\n",
       "    <tr>\n",
       "      <th>175</th>\n",
       "      <td>2020-09-11</td>\n",
       "      <td>271</td>\n",
       "      <td>141</td>\n",
       "      <td>126</td>\n",
       "      <td>4</td>\n",
       "      <td>456</td>\n",
       "    </tr>\n",
       "  </tbody>\n",
       "</table>\n",
       "</div>"
      ],
      "text/plain": [
       "          Date  EstTotalActive  EstOnActive  EstOffActive  EstEmpActive  \\\n",
       "171 2020-09-07             230          132            94             4   \n",
       "172 2020-09-08             238          133           101             4   \n",
       "173 2020-09-09             251          136           112             3   \n",
       "174 2020-09-10             269          142           124             3   \n",
       "175 2020-09-11             271          141           126             4   \n",
       "\n",
       "     Cumulative  \n",
       "171         355  \n",
       "172         372  \n",
       "173         407  \n",
       "174         433  \n",
       "175         456  "
      ]
     },
     "execution_count": 54,
     "metadata": {},
     "output_type": "execute_result"
    }
   ],
   "source": [
    "d.tail()"
   ]
  },
  {
   "cell_type": "code",
   "execution_count": null,
   "metadata": {},
   "outputs": [],
   "source": []
  },
  {
   "cell_type": "code",
   "execution_count": null,
   "metadata": {},
   "outputs": [],
   "source": []
  },
  {
   "cell_type": "code",
   "execution_count": null,
   "metadata": {},
   "outputs": [],
   "source": []
  },
  {
   "cell_type": "code",
   "execution_count": null,
   "metadata": {},
   "outputs": [],
   "source": []
  },
  {
   "cell_type": "code",
   "execution_count": null,
   "metadata": {},
   "outputs": [],
   "source": []
  },
  {
   "cell_type": "code",
   "execution_count": null,
   "metadata": {},
   "outputs": [],
   "source": []
  },
  {
   "cell_type": "code",
   "execution_count": null,
   "metadata": {},
   "outputs": [],
   "source": []
  },
  {
   "cell_type": "code",
   "execution_count": null,
   "metadata": {},
   "outputs": [],
   "source": []
  }
 ],
 "metadata": {
  "kernelspec": {
   "display_name": "Python 3",
   "language": "python",
   "name": "python3"
  },
  "language_info": {
   "codemirror_mode": {
    "name": "ipython",
    "version": 3
   },
   "file_extension": ".py",
   "mimetype": "text/x-python",
   "name": "python",
   "nbconvert_exporter": "python",
   "pygments_lexer": "ipython3",
   "version": "3.7.6"
  }
 },
 "nbformat": 4,
 "nbformat_minor": 2
}
